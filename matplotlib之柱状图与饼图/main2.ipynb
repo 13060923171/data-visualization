{
 "cells": [
  {
   "cell_type": "code",
   "execution_count": 1,
   "metadata": {},
   "outputs": [],
   "source": [
    "import pandas as pd\n",
    "import matplotlib.pyplot as plt\n",
    "import numpy as np\n",
    "plt.rcParams['font.sans-serif'] = ['SimHei']\n",
    "plt.rcParams['axes.unicode_minus'] = False\n",
    "df = pd.read_csv('xtrain_automatic.csv').loc[:,['body_type']]\n",
    "df1 = df['body_type'].value_counts()"
   ]
  },
  {
   "cell_type": "code",
   "execution_count": 2,
   "metadata": {},
   "outputs": [],
   "source": [
    "data = pd.read_csv('xtrain_mechanical.csv').loc[:,['body_type']]\n",
    "df2 = data['body_type'].value_counts()\n",
    "\n",
    "\n",
    "data_pair_1 = [(i, int(j)) for i, j in zip(df1.index, df1.values)]\n",
    "labels1 = []\n",
    "sizes1 = []\n",
    "for data in data_pair_1:\n",
    "    labels1.append(data[0])\n",
    "    sizes1.append(data[1])\n",
    "\n",
    "data_pair_2 = [(i, int(j)) for i, j in zip(df2.index, df2.values)]\n",
    "labels2 = []\n",
    "sizes2 = []\n",
    "for data in data_pair_2:\n",
    "    labels2.append(data[0])\n",
    "    sizes2.append(data[1])"
   ]
  },
  {
   "cell_type": "code",
   "execution_count": 13,
   "metadata": {},
   "outputs": [
    {
     "name": "stderr",
     "output_type": "stream",
     "text": [
      "D:\\rgzn\\lib\\site-packages\\ipykernel_launcher.py:12: MatplotlibDeprecationWarning: Adding an axes using the same arguments as a previous axes currently reuses the earlier instance.  In a future version, a new instance will always be created and returned.  Meanwhile, this warning can be suppressed, and the future behavior ensured, by passing a unique label to each axes instance.\n",
      "  if sys.path[0] == '':\n",
      "No handles with labels found to put in legend.\n"
     ]
    },
    {
     "data": {
      "image/png": "[encoded data removed]",
      "text/plain": [
       "<Figure size 432x288 with 1 Axes>"
      ]
     },
     "metadata": {
      "needs_background": "light"
     },
     "output_type": "display_data"
    }
   ],
   "source": [
    "body_type = labels1\n",
    "number1 = sizes1\n",
    "number2 = sizes2\n",
    "bar_width = 0.3  # 条形宽度\n",
    "index_mechanical = np.arange(len(body_type))\n",
    "index_automatic = index_mechanical + bar_width\n",
    "\n",
    "# 使用两次 bar 函数画出两组条形图\n",
    "plt.bar(index_automatic, height=number1, width=bar_width, color='darkcyan')\n",
    "plt.bar(index_mechanical, height=number2, width=bar_width, color='c' )\n",
    "# 坐标轴上移\n",
    "ax = plt.subplot(111)\n",
    "ax.spines['right'].set_color('none')     # 去掉右边的边框线\n",
    "ax.spines['top'].set_color('none') \n",
    "plt.legend()  # 显示图例\n",
    "plt.xticks(index_automatic + bar_width/2, body_type,rotation=75)  \n",
    "plt.ylabel('Price')  # 纵坐标轴标题\n",
    "plt.title('transmission')  # 图形标题\n",
    "plt.savefig('test2.jpg')\n",
    "plt.show()"
   ]
  },
  {
   "cell_type": "code",
   "execution_count": null,
   "metadata": {},
   "outputs": [],
   "source": []
  }
 ],
 "metadata": {
  "kernelspec": {
   "display_name": "Python 3",
   "language": "python",
   "name": "python3"
  },
  "language_info": {
   "codemirror_mode": {
    "name": "ipython",
    "version": 3
   },
   "file_extension": ".py",
   "mimetype": "text/x-python",
   "name": "python",
   "nbconvert_exporter": "python",
   "pygments_lexer": "ipython3",
   "version": "3.7.4"
  }
 },
 "nbformat": 4,
 "nbformat_minor": 2
}
