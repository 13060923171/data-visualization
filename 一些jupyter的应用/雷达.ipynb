{
 "cells": [
  {
   "cell_type": "code",
   "execution_count": 1,
   "metadata": {},
   "outputs": [],
   "source": [
    "from pyecharts.charts import Radar,Timeline\n",
    "from pyecharts import options as opts\n",
    "from pyecharts.faker import Faker"
   ]
  },
  {
   "cell_type": "code",
   "execution_count": 3,
   "metadata": {},
   "outputs": [],
   "source": [
    "list_name = ['MPG','HP','FGM','AM','WT','MIN','FGA']\n",
    "time = ['1999','2002','2005','2009','2012']\n",
    "l1 = ['0.110532','0.227481','0.787654','38.598485','5.378788','4.651515','1.530303']\n",
    "l2 = ['0.13099','0.22083','0.83492','42.827236','5.980691','5.510163','1.686992']\n",
    "l3 = ['0.124582','0.236655','0.810325','42.921607','5.799107','4.821429','1.490179']\n",
    "l4 = ['0.117158','0.228567','0.826495','39.479244','5.678082','5.23913','1.447886']\n",
    "l5 = ['0.108108','0.231348','0.819672','38.623077','5.551282','6.012821','1.358974']\n",
    "l6 = [l1,l2,l3,l4,l5]"
   ]
  },
  {
   "cell_type": "code",
   "execution_count": 5,
   "metadata": {},
   "outputs": [],
   "source": [
    "def index():\n",
    "    sc = [{'name':x} for x in list_name]\n",
    "    tl = Timeline()\n",
    "    for i in range(len(time)):\n",
    "        radar = (\n",
    "            Radar(init_opts=opts.InitOpts(width='1000px'))\n",
    "                #雷达各个角的名字\n",
    "                .add_schema(\n",
    "                sc,\n",
    "                #改变整个雷达的形状\n",
    "                shape='circle',\n",
    "                radius='80%'\n",
    "            )\n",
    "                #销量的x，y值\n",
    "            .add(\n",
    "                '',\n",
    "                [l6[i]],\n",
    "                #改变节点的形状\n",
    "                symbol='roundRect',\n",
    "                #改变线的粗细\n",
    "                linestyle_opts=opts.LineStyleOpts(\n",
    "                    type_='dash'\n",
    "                )\n",
    "            )\n",
    "            .set_global_opts(title_opts=opts.TitleOpts(\"{}年\".format(time[i])))\n",
    "        )\n",
    "        tl.add(radar,\"{}年\".format(time[i]))\n",
    "    return tl.render(\"timeline_radar.html\")\n",
    "\n",
    "if __name__ == '__main__':\n",
    "    index()"
   ]
  },
  {
   "cell_type": "code",
   "execution_count": null,
   "metadata": {},
   "outputs": [],
   "source": []
  }
 ],
 "metadata": {
  "kernelspec": {
   "display_name": "Python 3",
   "language": "python",
   "name": "python3"
  },
  "language_info": {
   "codemirror_mode": {
    "name": "ipython",
    "version": 3
   },
   "file_extension": ".py",
   "mimetype": "text/x-python",
   "name": "python",
   "nbconvert_exporter": "python",
   "pygments_lexer": "ipython3",
   "version": "3.7.4"
  }
 },
 "nbformat": 4,
 "nbformat_minor": 2
}
