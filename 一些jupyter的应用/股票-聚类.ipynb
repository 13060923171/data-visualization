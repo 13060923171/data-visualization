{
 "cells": [
  {
   "cell_type": "code",
   "execution_count": 32,
   "metadata": {},
   "outputs": [],
   "source": [
    "import pandas as pd\n",
    "import pyecharts.options as opts\n",
    "from pyecharts.charts import Scatter\n",
    "import time"
   ]
  },
  {
   "cell_type": "code",
   "execution_count": 33,
   "metadata": {},
   "outputs": [],
   "source": [
    "df = pd.read_excel('stock_data.xlsx')\n",
    "date_list = []\n",
    "amplitude_list = []\n",
    "stock_code_list = []\n",
    "for date in df['Date']:\n",
    "    i = str(date)\n",
    "    t1 = time.strptime(i, \"%Y-%m-%d %H:%M:%S\")\n",
    "    t2 = time.strftime(\"%Y/%m/%d\", t1)\n",
    "    t2 = t2[5:-3]\n",
    "\n",
    "    # t2 = t2.replace('/','')\n",
    "    # t = '{}月'.format(t2)\n",
    "    date_list.append(t2)\n",
    "for amplitude in df['Amplitude']:\n",
    "    amplitude_list.append(amplitude)\n",
    "for code in df['Stock Code']:\n",
    "    code = str(code)\n",
    "    code = code.replace('927','000927').replace('2258','002258').replace('990','000990').replace('537','000537')\n",
    "    stock_code_list.append(code)\n",
    "\n",
    "\n",
    "x_data = date_list\n",
    "y_data = amplitude_list"
   ]
  },
  {
   "cell_type": "code",
   "execution_count": 36,
   "metadata": {},
   "outputs": [],
   "source": [
    "a = (\n",
    "    Scatter(init_opts=opts.InitOpts(width=\"1080px\", height=\"600px\"))\n",
    "    .add_xaxis(xaxis_data=x_data)\n",
    "    .add_yaxis(\n",
    "        series_name=\"\",\n",
    "        y_axis=y_data,\n",
    "        symbol_size=15,\n",
    "        label_opts=opts.LabelOpts(is_show=False)\n",
    "    )\n",
    "    .set_series_opts()\n",
    "    .set_global_opts(\n",
    "        visualmap_opts=opts.VisualMapOpts(type_='color',max_=20),\n",
    "        xaxis_opts=opts.AxisOpts(\n",
    "            type_=\"value\", splitline_opts=opts.SplitLineOpts(is_show=True)\n",
    "        ),\n",
    "        yaxis_opts=opts.AxisOpts(\n",
    "            type_=\"value\",\n",
    "            axistick_opts=opts.AxisTickOpts(is_show=True),\n",
    "            splitline_opts=opts.SplitLineOpts(is_show=True),\n",
    "        ),\n",
    "        tooltip_opts=opts.TooltipOpts(is_show=True),\n",
    "    )\n",
    "    .render(\"time.html\")\n",
    ")"
   ]
  },
  {
   "cell_type": "code",
   "execution_count": 35,
   "metadata": {},
   "outputs": [],
   "source": [
    "c = (\n",
    "    Scatter()\n",
    "    .add_xaxis(xaxis_data=stock_code_list)\n",
    "    .add_yaxis(\n",
    "        series_name='',\n",
    "        y_axis=amplitude_list\n",
    "    )\n",
    "    .set_global_opts(\n",
    "        title_opts=opts.TitleOpts(title=\"股票聚类分布\"),\n",
    "        xaxis_opts=opts.AxisOpts(splitline_opts=opts.SplitLineOpts(is_show=True)),\n",
    "        yaxis_opts=opts.AxisOpts(splitline_opts=opts.SplitLineOpts(is_show=True)),\n",
    "    )\n",
    "    .render(\"code.html\")\n",
    ")"
   ]
  },
  {
   "cell_type": "code",
   "execution_count": null,
   "metadata": {},
   "outputs": [],
   "source": []
  }
 ],
 "metadata": {
  "kernelspec": {
   "display_name": "Python 3",
   "language": "python",
   "name": "python3"
  },
  "language_info": {
   "codemirror_mode": {
    "name": "ipython",
    "version": 3
   },
   "file_extension": ".py",
   "mimetype": "text/x-python",
   "name": "python",
   "nbconvert_exporter": "python",
   "pygments_lexer": "ipython3",
   "version": "3.7.4"
  }
 },
 "nbformat": 4,
 "nbformat_minor": 2
}
